{
  "nbformat": 4,
  "nbformat_minor": 0,
  "metadata": {
    "colab": {
      "provenance": []
    },
    "kernelspec": {
      "name": "python3",
      "display_name": "Python 3"
    },
    "language_info": {
      "name": "python"
    }
  },
  "cells": [
    {
      "cell_type": "code",
      "source": [
        "%pip install yfinance"
      ],
      "metadata": {
        "id": "9HzzefbqDfv-"
      },
      "execution_count": null,
      "outputs": []
    },
    {
      "cell_type": "code",
      "execution_count": 4,
      "metadata": {
        "id": "Qec9lF5fGNJU"
      },
      "outputs": [],
      "source": [
        "import yfinance as yf\n",
        "import numpy as np\n",
        "import tensorflow as tf\n",
        "import math"
      ]
    },
    {
      "cell_type": "code",
      "source": [
        "data = yf.download(\"GC=F\", start=\"2001-01-01\", interval='1d')"
      ],
      "metadata": {
        "colab": {
          "base_uri": "https://localhost:8080/"
        },
        "id": "2seufqi4PaAf",
        "outputId": "4cf8b1b7-cef6-471b-b3b5-5d1ca2dd499c"
      },
      "execution_count": 5,
      "outputs": [
        {
          "output_type": "stream",
          "name": "stdout",
          "text": [
            "\r[*********************100%***********************]  1 of 1 completed\n"
          ]
        }
      ]
    },
    {
      "cell_type": "code",
      "source": [
        "data.tail()"
      ],
      "metadata": {
        "colab": {
          "base_uri": "https://localhost:8080/",
          "height": 237
        },
        "id": "I1TtSvqPPyJK",
        "outputId": "de25dd9b-dcc4-4d8a-8674-bf7d6fb2ae42"
      },
      "execution_count": 6,
      "outputs": [
        {
          "output_type": "execute_result",
          "data": {
            "text/plain": [
              "                   Open         High          Low        Close    Adj Close  \\\n",
              "Date                                                                          \n",
              "2023-01-09  1867.000000  1880.000000  1867.000000  1872.699951  1872.699951   \n",
              "2023-01-10  1877.800049  1878.099976  1871.599976  1871.599976  1871.599976   \n",
              "2023-01-11  1873.099976  1877.800049  1873.099976  1874.599976  1874.599976   \n",
              "2023-01-12  1877.199951  1897.400024  1877.199951  1895.500000  1895.500000   \n",
              "2023-01-13  1899.000000  1920.900024  1898.300049  1918.400024  1918.400024   \n",
              "\n",
              "            Volume  \n",
              "Date                \n",
              "2023-01-09      62  \n",
              "2023-01-10     101  \n",
              "2023-01-11    1236  \n",
              "2023-01-12      59  \n",
              "2023-01-13      59  "
            ],
            "text/html": [
              "\n",
              "  <div id=\"df-01cb8036-6fbb-47e8-84bd-74ff46b5884b\">\n",
              "    <div class=\"colab-df-container\">\n",
              "      <div>\n",
              "<style scoped>\n",
              "    .dataframe tbody tr th:only-of-type {\n",
              "        vertical-align: middle;\n",
              "    }\n",
              "\n",
              "    .dataframe tbody tr th {\n",
              "        vertical-align: top;\n",
              "    }\n",
              "\n",
              "    .dataframe thead th {\n",
              "        text-align: right;\n",
              "    }\n",
              "</style>\n",
              "<table border=\"1\" class=\"dataframe\">\n",
              "  <thead>\n",
              "    <tr style=\"text-align: right;\">\n",
              "      <th></th>\n",
              "      <th>Open</th>\n",
              "      <th>High</th>\n",
              "      <th>Low</th>\n",
              "      <th>Close</th>\n",
              "      <th>Adj Close</th>\n",
              "      <th>Volume</th>\n",
              "    </tr>\n",
              "    <tr>\n",
              "      <th>Date</th>\n",
              "      <th></th>\n",
              "      <th></th>\n",
              "      <th></th>\n",
              "      <th></th>\n",
              "      <th></th>\n",
              "      <th></th>\n",
              "    </tr>\n",
              "  </thead>\n",
              "  <tbody>\n",
              "    <tr>\n",
              "      <th>2023-01-09</th>\n",
              "      <td>1867.000000</td>\n",
              "      <td>1880.000000</td>\n",
              "      <td>1867.000000</td>\n",
              "      <td>1872.699951</td>\n",
              "      <td>1872.699951</td>\n",
              "      <td>62</td>\n",
              "    </tr>\n",
              "    <tr>\n",
              "      <th>2023-01-10</th>\n",
              "      <td>1877.800049</td>\n",
              "      <td>1878.099976</td>\n",
              "      <td>1871.599976</td>\n",
              "      <td>1871.599976</td>\n",
              "      <td>1871.599976</td>\n",
              "      <td>101</td>\n",
              "    </tr>\n",
              "    <tr>\n",
              "      <th>2023-01-11</th>\n",
              "      <td>1873.099976</td>\n",
              "      <td>1877.800049</td>\n",
              "      <td>1873.099976</td>\n",
              "      <td>1874.599976</td>\n",
              "      <td>1874.599976</td>\n",
              "      <td>1236</td>\n",
              "    </tr>\n",
              "    <tr>\n",
              "      <th>2023-01-12</th>\n",
              "      <td>1877.199951</td>\n",
              "      <td>1897.400024</td>\n",
              "      <td>1877.199951</td>\n",
              "      <td>1895.500000</td>\n",
              "      <td>1895.500000</td>\n",
              "      <td>59</td>\n",
              "    </tr>\n",
              "    <tr>\n",
              "      <th>2023-01-13</th>\n",
              "      <td>1899.000000</td>\n",
              "      <td>1920.900024</td>\n",
              "      <td>1898.300049</td>\n",
              "      <td>1918.400024</td>\n",
              "      <td>1918.400024</td>\n",
              "      <td>59</td>\n",
              "    </tr>\n",
              "  </tbody>\n",
              "</table>\n",
              "</div>\n",
              "      <button class=\"colab-df-convert\" onclick=\"convertToInteractive('df-01cb8036-6fbb-47e8-84bd-74ff46b5884b')\"\n",
              "              title=\"Convert this dataframe to an interactive table.\"\n",
              "              style=\"display:none;\">\n",
              "        \n",
              "  <svg xmlns=\"http://www.w3.org/2000/svg\" height=\"24px\"viewBox=\"0 0 24 24\"\n",
              "       width=\"24px\">\n",
              "    <path d=\"M0 0h24v24H0V0z\" fill=\"none\"/>\n",
              "    <path d=\"M18.56 5.44l.94 2.06.94-2.06 2.06-.94-2.06-.94-.94-2.06-.94 2.06-2.06.94zm-11 1L8.5 8.5l.94-2.06 2.06-.94-2.06-.94L8.5 2.5l-.94 2.06-2.06.94zm10 10l.94 2.06.94-2.06 2.06-.94-2.06-.94-.94-2.06-.94 2.06-2.06.94z\"/><path d=\"M17.41 7.96l-1.37-1.37c-.4-.4-.92-.59-1.43-.59-.52 0-1.04.2-1.43.59L10.3 9.45l-7.72 7.72c-.78.78-.78 2.05 0 2.83L4 21.41c.39.39.9.59 1.41.59.51 0 1.02-.2 1.41-.59l7.78-7.78 2.81-2.81c.8-.78.8-2.07 0-2.86zM5.41 20L4 18.59l7.72-7.72 1.47 1.35L5.41 20z\"/>\n",
              "  </svg>\n",
              "      </button>\n",
              "      \n",
              "  <style>\n",
              "    .colab-df-container {\n",
              "      display:flex;\n",
              "      flex-wrap:wrap;\n",
              "      gap: 12px;\n",
              "    }\n",
              "\n",
              "    .colab-df-convert {\n",
              "      background-color: #E8F0FE;\n",
              "      border: none;\n",
              "      border-radius: 50%;\n",
              "      cursor: pointer;\n",
              "      display: none;\n",
              "      fill: #1967D2;\n",
              "      height: 32px;\n",
              "      padding: 0 0 0 0;\n",
              "      width: 32px;\n",
              "    }\n",
              "\n",
              "    .colab-df-convert:hover {\n",
              "      background-color: #E2EBFA;\n",
              "      box-shadow: 0px 1px 2px rgba(60, 64, 67, 0.3), 0px 1px 3px 1px rgba(60, 64, 67, 0.15);\n",
              "      fill: #174EA6;\n",
              "    }\n",
              "\n",
              "    [theme=dark] .colab-df-convert {\n",
              "      background-color: #3B4455;\n",
              "      fill: #D2E3FC;\n",
              "    }\n",
              "\n",
              "    [theme=dark] .colab-df-convert:hover {\n",
              "      background-color: #434B5C;\n",
              "      box-shadow: 0px 1px 3px 1px rgba(0, 0, 0, 0.15);\n",
              "      filter: drop-shadow(0px 1px 2px rgba(0, 0, 0, 0.3));\n",
              "      fill: #FFFFFF;\n",
              "    }\n",
              "  </style>\n",
              "\n",
              "      <script>\n",
              "        const buttonEl =\n",
              "          document.querySelector('#df-01cb8036-6fbb-47e8-84bd-74ff46b5884b button.colab-df-convert');\n",
              "        buttonEl.style.display =\n",
              "          google.colab.kernel.accessAllowed ? 'block' : 'none';\n",
              "\n",
              "        async function convertToInteractive(key) {\n",
              "          const element = document.querySelector('#df-01cb8036-6fbb-47e8-84bd-74ff46b5884b');\n",
              "          const dataTable =\n",
              "            await google.colab.kernel.invokeFunction('convertToInteractive',\n",
              "                                                     [key], {});\n",
              "          if (!dataTable) return;\n",
              "\n",
              "          const docLinkHtml = 'Like what you see? Visit the ' +\n",
              "            '<a target=\"_blank\" href=https://colab.research.google.com/notebooks/data_table.ipynb>data table notebook</a>'\n",
              "            + ' to learn more about interactive tables.';\n",
              "          element.innerHTML = '';\n",
              "          dataTable['output_type'] = 'display_data';\n",
              "          await google.colab.output.renderOutput(dataTable, element);\n",
              "          const docLink = document.createElement('div');\n",
              "          docLink.innerHTML = docLinkHtml;\n",
              "          element.appendChild(docLink);\n",
              "        }\n",
              "      </script>\n",
              "    </div>\n",
              "  </div>\n",
              "  "
            ]
          },
          "metadata": {},
          "execution_count": 6
        }
      ]
    },
    {
      "cell_type": "code",
      "source": [
        "data.size"
      ],
      "metadata": {
        "colab": {
          "base_uri": "https://localhost:8080/"
        },
        "id": "ltoJPgOPP5VS",
        "outputId": "e792c183-f248-47ed-fe09-9c70edae318c"
      },
      "execution_count": 7,
      "outputs": [
        {
          "output_type": "execute_result",
          "data": {
            "text/plain": [
              "33180"
            ]
          },
          "metadata": {},
          "execution_count": 7
        }
      ]
    },
    {
      "cell_type": "code",
      "source": [
        "# // Predicting the data using the open price \n",
        "inp_data = data.Open\n",
        "price = data.Close\n",
        "\n",
        "# // Training data - 80%  // Testing data - 20%\n",
        "X_train = inp_data[:math.floor(inp_data.size * 0.8)]\n",
        "X_test = inp_data[math.floor(inp_data.size * 0.8):]\n",
        "\n",
        "y_train = price[:math.floor(price.size * 0.8)]\n",
        "y_test = price[math.floor(price.size * 0.8):]"
      ],
      "metadata": {
        "id": "ECSF1LjCP9TC"
      },
      "execution_count": 8,
      "outputs": []
    },
    {
      "cell_type": "code",
      "source": [
        "# No data is loss\n",
        "X_train.size + X_test.size == data.Open.size"
      ],
      "metadata": {
        "colab": {
          "base_uri": "https://localhost:8080/"
        },
        "id": "tDxU1ms6Q6qM",
        "outputId": "78a2896c-6117-4260-9338-d3fcccacab05"
      },
      "execution_count": 9,
      "outputs": [
        {
          "output_type": "execute_result",
          "data": {
            "text/plain": [
              "True"
            ]
          },
          "metadata": {},
          "execution_count": 9
        }
      ]
    },
    {
      "cell_type": "markdown",
      "source": [
        "# Model 1"
      ],
      "metadata": {
        "id": "XiZDUmt-D0IV"
      }
    },
    {
      "cell_type": "code",
      "source": [
        "model_1 = tf.keras.Sequential([\n",
        "    tf.keras.layers.Dense(1)\n",
        "])\n",
        "\n",
        "model_1.compile(\n",
        "    loss=tf.keras.losses.mae,\n",
        "    optimizer=tf.keras.optimizers.SGD(),\n",
        "    metrics=['mae']\n",
        ")\n",
        "\n",
        "model_1.fit(X_train, y_train, epochs=10)"
      ],
      "metadata": {
        "colab": {
          "base_uri": "https://localhost:8080/"
        },
        "id": "RfocEGBcSmtf",
        "outputId": "2263321f-2cd5-4a00-b5e8-d51e603e6672"
      },
      "execution_count": 10,
      "outputs": [
        {
          "output_type": "stream",
          "name": "stdout",
          "text": [
            "Epoch 1/10\n",
            "139/139 [==============================] - 1s 2ms/step - loss: 4456.0151 - mae: 4456.0151\n",
            "Epoch 2/10\n",
            "139/139 [==============================] - 0s 2ms/step - loss: 4482.7065 - mae: 4482.7065\n",
            "Epoch 3/10\n",
            "139/139 [==============================] - 0s 1ms/step - loss: 4477.9536 - mae: 4477.9536\n",
            "Epoch 4/10\n",
            "139/139 [==============================] - 0s 2ms/step - loss: 4475.0127 - mae: 4475.0127\n",
            "Epoch 5/10\n",
            "139/139 [==============================] - 0s 2ms/step - loss: 4483.5225 - mae: 4483.5225\n",
            "Epoch 6/10\n",
            "139/139 [==============================] - 0s 2ms/step - loss: 4473.3770 - mae: 4473.3770\n",
            "Epoch 7/10\n",
            "139/139 [==============================] - 0s 2ms/step - loss: 4468.5742 - mae: 4468.5742\n",
            "Epoch 8/10\n",
            "139/139 [==============================] - 0s 2ms/step - loss: 4482.9604 - mae: 4482.9604\n",
            "Epoch 9/10\n",
            "139/139 [==============================] - 0s 2ms/step - loss: 4461.6553 - mae: 4461.6553\n",
            "Epoch 10/10\n",
            "139/139 [==============================] - 0s 2ms/step - loss: 4454.8413 - mae: 4454.8413\n"
          ]
        },
        {
          "output_type": "execute_result",
          "data": {
            "text/plain": [
              "<keras.callbacks.History at 0x7feeea74b040>"
            ]
          },
          "metadata": {},
          "execution_count": 10
        }
      ]
    },
    {
      "cell_type": "code",
      "source": [
        "model_1.evaluate(X_test, y_test)"
      ],
      "metadata": {
        "colab": {
          "base_uri": "https://localhost:8080/"
        },
        "id": "e1fqr3j4DUzG",
        "outputId": "8dfce93b-fe0b-4d91-9642-c30e57ac9f04"
      },
      "execution_count": 11,
      "outputs": [
        {
          "output_type": "stream",
          "name": "stdout",
          "text": [
            "35/35 [==============================] - 0s 2ms/step - loss: 3998.2771 - mae: 3998.2771\n"
          ]
        },
        {
          "output_type": "execute_result",
          "data": {
            "text/plain": [
              "[3998.277099609375, 3998.277099609375]"
            ]
          },
          "metadata": {},
          "execution_count": 11
        }
      ]
    },
    {
      "cell_type": "markdown",
      "source": [
        "# Model 2"
      ],
      "metadata": {
        "id": "mZCfaVpkDwbt"
      }
    },
    {
      "cell_type": "code",
      "source": [
        "model_2 = tf.keras.Sequential([\n",
        "    tf.keras.layers.Dense(10, activation='relu'),\n",
        "    tf.keras.layers.Dense(1)\n",
        "])\n",
        "\n",
        "model_2.compile(\n",
        "    loss=tf.keras.losses.mae,\n",
        "    optimizer=tf.keras.optimizers.Adam(),\n",
        "    metrics=['mae']\n",
        ")\n",
        "\n",
        "model_2.fit(X_train, y_train, epochs=10)"
      ],
      "metadata": {
        "colab": {
          "base_uri": "https://localhost:8080/"
        },
        "id": "1etkYHcLD4zg",
        "outputId": "3b8c5907-6fe0-4590-cb69-f7a0093f03fd"
      },
      "execution_count": 14,
      "outputs": [
        {
          "output_type": "stream",
          "name": "stdout",
          "text": [
            "Epoch 1/10\n",
            "139/139 [==============================] - 1s 2ms/step - loss: 683.6716 - mae: 683.6716\n",
            "Epoch 2/10\n",
            "139/139 [==============================] - 0s 2ms/step - loss: 92.9412 - mae: 92.9412\n",
            "Epoch 3/10\n",
            "139/139 [==============================] - 0s 2ms/step - loss: 5.8930 - mae: 5.8930\n",
            "Epoch 4/10\n",
            "139/139 [==============================] - 0s 2ms/step - loss: 5.8866 - mae: 5.8866\n",
            "Epoch 5/10\n",
            "139/139 [==============================] - 0s 2ms/step - loss: 5.9625 - mae: 5.9625\n",
            "Epoch 6/10\n",
            "139/139 [==============================] - 0s 2ms/step - loss: 5.9958 - mae: 5.9958\n",
            "Epoch 7/10\n",
            "139/139 [==============================] - 0s 2ms/step - loss: 5.8864 - mae: 5.8864\n",
            "Epoch 8/10\n",
            "139/139 [==============================] - 0s 2ms/step - loss: 5.8641 - mae: 5.8641\n",
            "Epoch 9/10\n",
            "139/139 [==============================] - 0s 2ms/step - loss: 5.8997 - mae: 5.8997\n",
            "Epoch 10/10\n",
            "139/139 [==============================] - 0s 2ms/step - loss: 5.9834 - mae: 5.9834\n"
          ]
        },
        {
          "output_type": "execute_result",
          "data": {
            "text/plain": [
              "<keras.callbacks.History at 0x7feee7a9d7f0>"
            ]
          },
          "metadata": {},
          "execution_count": 14
        }
      ]
    },
    {
      "cell_type": "code",
      "source": [
        "model_2.evaluate(X_test, y_test)"
      ],
      "metadata": {
        "colab": {
          "base_uri": "https://localhost:8080/"
        },
        "id": "NyaI7V7RESoK",
        "outputId": "0260045e-b26d-4b64-ece0-ca8af322ff68"
      },
      "execution_count": 15,
      "outputs": [
        {
          "output_type": "stream",
          "name": "stdout",
          "text": [
            "35/35 [==============================] - 0s 1ms/step - loss: 12.2917 - mae: 12.2917\n"
          ]
        },
        {
          "output_type": "execute_result",
          "data": {
            "text/plain": [
              "[12.291681289672852, 12.291681289672852]"
            ]
          },
          "metadata": {},
          "execution_count": 15
        }
      ]
    },
    {
      "cell_type": "markdown",
      "source": [
        "# Model 3"
      ],
      "metadata": {
        "id": "cFMCJYcOEh7a"
      }
    },
    {
      "cell_type": "code",
      "source": [
        "model_3 = tf.keras.Sequential([\n",
        "    tf.keras.layers.Dense(100, activation=None),\n",
        "    tf.keras.layers.Dense(10, activation='relu'),\n",
        "    tf.keras.layers.Dense(1)\n",
        "])\n",
        "\n",
        "model_3.compile(\n",
        "    loss=tf.keras.losses.mae,\n",
        "    optimizer=tf.keras.optimizers.Adam(),\n",
        "    metrics=['mae']\n",
        ")\n",
        "\n",
        "model_3.fit(X_train, y_train, epochs=100)"
      ],
      "metadata": {
        "colab": {
          "base_uri": "https://localhost:8080/"
        },
        "id": "2bHGMxq0EmqW",
        "outputId": "93cc24ba-eba1-439a-9056-24271d699322"
      },
      "execution_count": 37,
      "outputs": [
        {
          "output_type": "stream",
          "name": "stdout",
          "text": [
            "Epoch 1/100\n",
            "139/139 [==============================] - 1s 3ms/step - loss: 87.1684 - mae: 87.1684\n",
            "Epoch 2/100\n",
            "139/139 [==============================] - 0s 3ms/step - loss: 6.6846 - mae: 6.6846\n",
            "Epoch 3/100\n",
            "139/139 [==============================] - 0s 3ms/step - loss: 6.6160 - mae: 6.6160\n",
            "Epoch 4/100\n",
            "139/139 [==============================] - 0s 2ms/step - loss: 6.5188 - mae: 6.5188\n",
            "Epoch 5/100\n",
            "139/139 [==============================] - 0s 3ms/step - loss: 7.0861 - mae: 7.0861\n",
            "Epoch 6/100\n",
            "139/139 [==============================] - 0s 2ms/step - loss: 6.8213 - mae: 6.8213\n",
            "Epoch 7/100\n",
            "139/139 [==============================] - 0s 2ms/step - loss: 7.0555 - mae: 7.0555\n",
            "Epoch 8/100\n",
            "139/139 [==============================] - 0s 2ms/step - loss: 6.5889 - mae: 6.5889\n",
            "Epoch 9/100\n",
            "139/139 [==============================] - 0s 2ms/step - loss: 6.4978 - mae: 6.4978\n",
            "Epoch 10/100\n",
            "139/139 [==============================] - 0s 2ms/step - loss: 6.6928 - mae: 6.6928\n",
            "Epoch 11/100\n",
            "139/139 [==============================] - 0s 3ms/step - loss: 6.3203 - mae: 6.3203\n",
            "Epoch 12/100\n",
            "139/139 [==============================] - 0s 2ms/step - loss: 7.3445 - mae: 7.3445\n",
            "Epoch 13/100\n",
            "139/139 [==============================] - 0s 3ms/step - loss: 6.4101 - mae: 6.4101\n",
            "Epoch 14/100\n",
            "139/139 [==============================] - 0s 2ms/step - loss: 6.5966 - mae: 6.5966\n",
            "Epoch 15/100\n",
            "139/139 [==============================] - 0s 2ms/step - loss: 7.0120 - mae: 7.0120\n",
            "Epoch 16/100\n",
            "139/139 [==============================] - 0s 2ms/step - loss: 6.7636 - mae: 6.7636\n",
            "Epoch 17/100\n",
            "139/139 [==============================] - 0s 2ms/step - loss: 6.5528 - mae: 6.5528\n",
            "Epoch 18/100\n",
            "139/139 [==============================] - 0s 2ms/step - loss: 6.7800 - mae: 6.7800\n",
            "Epoch 19/100\n",
            "139/139 [==============================] - 0s 2ms/step - loss: 6.7326 - mae: 6.7326\n",
            "Epoch 20/100\n",
            "139/139 [==============================] - 0s 2ms/step - loss: 6.5305 - mae: 6.5305\n",
            "Epoch 21/100\n",
            "139/139 [==============================] - 0s 2ms/step - loss: 6.8299 - mae: 6.8299\n",
            "Epoch 22/100\n",
            "139/139 [==============================] - 0s 2ms/step - loss: 7.0700 - mae: 7.0700\n",
            "Epoch 23/100\n",
            "139/139 [==============================] - 0s 2ms/step - loss: 6.6369 - mae: 6.6369\n",
            "Epoch 24/100\n",
            "139/139 [==============================] - 0s 2ms/step - loss: 6.8686 - mae: 6.8686\n",
            "Epoch 25/100\n",
            "139/139 [==============================] - 0s 3ms/step - loss: 6.7997 - mae: 6.7997\n",
            "Epoch 26/100\n",
            "139/139 [==============================] - 0s 2ms/step - loss: 6.5606 - mae: 6.5606\n",
            "Epoch 27/100\n",
            "139/139 [==============================] - 0s 3ms/step - loss: 6.2525 - mae: 6.2525\n",
            "Epoch 28/100\n",
            "139/139 [==============================] - 0s 2ms/step - loss: 7.4203 - mae: 7.4203\n",
            "Epoch 29/100\n",
            "139/139 [==============================] - 0s 3ms/step - loss: 6.3986 - mae: 6.3986\n",
            "Epoch 30/100\n",
            "139/139 [==============================] - 0s 3ms/step - loss: 6.6404 - mae: 6.6404\n",
            "Epoch 31/100\n",
            "139/139 [==============================] - 0s 3ms/step - loss: 6.3681 - mae: 6.3681\n",
            "Epoch 32/100\n",
            "139/139 [==============================] - 0s 2ms/step - loss: 6.6389 - mae: 6.6389\n",
            "Epoch 33/100\n",
            "139/139 [==============================] - 0s 3ms/step - loss: 6.2755 - mae: 6.2755\n",
            "Epoch 34/100\n",
            "139/139 [==============================] - 0s 3ms/step - loss: 6.3331 - mae: 6.3331\n",
            "Epoch 35/100\n",
            "139/139 [==============================] - 0s 3ms/step - loss: 6.4277 - mae: 6.4277\n",
            "Epoch 36/100\n",
            "139/139 [==============================] - 0s 2ms/step - loss: 6.8080 - mae: 6.8080\n",
            "Epoch 37/100\n",
            "139/139 [==============================] - 0s 3ms/step - loss: 7.0146 - mae: 7.0146\n",
            "Epoch 38/100\n",
            "139/139 [==============================] - 0s 3ms/step - loss: 6.5381 - mae: 6.5381\n",
            "Epoch 39/100\n",
            "139/139 [==============================] - 0s 3ms/step - loss: 6.7492 - mae: 6.7492\n",
            "Epoch 40/100\n",
            "139/139 [==============================] - 0s 3ms/step - loss: 6.3923 - mae: 6.3923\n",
            "Epoch 41/100\n",
            "139/139 [==============================] - 0s 3ms/step - loss: 6.7854 - mae: 6.7854\n",
            "Epoch 42/100\n",
            "139/139 [==============================] - 0s 3ms/step - loss: 6.3934 - mae: 6.3934\n",
            "Epoch 43/100\n",
            "139/139 [==============================] - 0s 3ms/step - loss: 6.5725 - mae: 6.5725\n",
            "Epoch 44/100\n",
            "139/139 [==============================] - 0s 2ms/step - loss: 6.3452 - mae: 6.3452\n",
            "Epoch 45/100\n",
            "139/139 [==============================] - 0s 3ms/step - loss: 6.9184 - mae: 6.9184\n",
            "Epoch 46/100\n",
            "139/139 [==============================] - 0s 3ms/step - loss: 6.7004 - mae: 6.7004\n",
            "Epoch 47/100\n",
            "139/139 [==============================] - 0s 3ms/step - loss: 6.8402 - mae: 6.8402\n",
            "Epoch 48/100\n",
            "139/139 [==============================] - 0s 3ms/step - loss: 6.7200 - mae: 6.7200\n",
            "Epoch 49/100\n",
            "139/139 [==============================] - 0s 3ms/step - loss: 6.6132 - mae: 6.6132\n",
            "Epoch 50/100\n",
            "139/139 [==============================] - 0s 2ms/step - loss: 6.2603 - mae: 6.2603\n",
            "Epoch 51/100\n",
            "139/139 [==============================] - 0s 2ms/step - loss: 6.6849 - mae: 6.6849\n",
            "Epoch 52/100\n",
            "139/139 [==============================] - 0s 2ms/step - loss: 6.2439 - mae: 6.2439\n",
            "Epoch 53/100\n",
            "139/139 [==============================] - 0s 2ms/step - loss: 6.4974 - mae: 6.4974\n",
            "Epoch 54/100\n",
            "139/139 [==============================] - 0s 3ms/step - loss: 6.4038 - mae: 6.4038\n",
            "Epoch 55/100\n",
            "139/139 [==============================] - 0s 2ms/step - loss: 6.6256 - mae: 6.6256\n",
            "Epoch 56/100\n",
            "139/139 [==============================] - 0s 3ms/step - loss: 7.0943 - mae: 7.0943\n",
            "Epoch 57/100\n",
            "139/139 [==============================] - 0s 3ms/step - loss: 6.3148 - mae: 6.3148\n",
            "Epoch 58/100\n",
            "139/139 [==============================] - 0s 3ms/step - loss: 6.3536 - mae: 6.3536\n",
            "Epoch 59/100\n",
            "139/139 [==============================] - 0s 2ms/step - loss: 6.6097 - mae: 6.6097\n",
            "Epoch 60/100\n",
            "139/139 [==============================] - 0s 2ms/step - loss: 6.6474 - mae: 6.6474\n",
            "Epoch 61/100\n",
            "139/139 [==============================] - 0s 3ms/step - loss: 6.3816 - mae: 6.3816\n",
            "Epoch 62/100\n",
            "139/139 [==============================] - 0s 3ms/step - loss: 6.4704 - mae: 6.4704\n",
            "Epoch 63/100\n",
            "139/139 [==============================] - 0s 3ms/step - loss: 6.8653 - mae: 6.8653\n",
            "Epoch 64/100\n",
            "139/139 [==============================] - 0s 2ms/step - loss: 6.5095 - mae: 6.5095\n",
            "Epoch 65/100\n",
            "139/139 [==============================] - 0s 2ms/step - loss: 6.5125 - mae: 6.5125\n",
            "Epoch 66/100\n",
            "139/139 [==============================] - 0s 2ms/step - loss: 6.7102 - mae: 6.7102\n",
            "Epoch 67/100\n",
            "139/139 [==============================] - 0s 2ms/step - loss: 6.7013 - mae: 6.7013\n",
            "Epoch 68/100\n",
            "139/139 [==============================] - 0s 2ms/step - loss: 6.3507 - mae: 6.3507\n",
            "Epoch 69/100\n",
            "139/139 [==============================] - 0s 2ms/step - loss: 6.5941 - mae: 6.5941\n",
            "Epoch 70/100\n",
            "139/139 [==============================] - 0s 2ms/step - loss: 6.3717 - mae: 6.3717\n",
            "Epoch 71/100\n",
            "139/139 [==============================] - 0s 2ms/step - loss: 6.6659 - mae: 6.6659\n",
            "Epoch 72/100\n",
            "139/139 [==============================] - 0s 2ms/step - loss: 7.0939 - mae: 7.0939\n",
            "Epoch 73/100\n",
            "139/139 [==============================] - 0s 2ms/step - loss: 6.5644 - mae: 6.5644\n",
            "Epoch 74/100\n",
            "139/139 [==============================] - 0s 3ms/step - loss: 6.4016 - mae: 6.4016\n",
            "Epoch 75/100\n",
            "139/139 [==============================] - 0s 3ms/step - loss: 6.2584 - mae: 6.2584\n",
            "Epoch 76/100\n",
            "139/139 [==============================] - 0s 2ms/step - loss: 6.3696 - mae: 6.3696\n",
            "Epoch 77/100\n",
            "139/139 [==============================] - 0s 2ms/step - loss: 6.9296 - mae: 6.9296\n",
            "Epoch 78/100\n",
            "139/139 [==============================] - 0s 2ms/step - loss: 6.3705 - mae: 6.3705\n",
            "Epoch 79/100\n",
            "139/139 [==============================] - 0s 2ms/step - loss: 6.2549 - mae: 6.2549\n",
            "Epoch 80/100\n",
            "139/139 [==============================] - 0s 2ms/step - loss: 6.5303 - mae: 6.5303\n",
            "Epoch 81/100\n",
            "139/139 [==============================] - 0s 2ms/step - loss: 6.8689 - mae: 6.8689\n",
            "Epoch 82/100\n",
            "139/139 [==============================] - 0s 2ms/step - loss: 6.5011 - mae: 6.5011\n",
            "Epoch 83/100\n",
            "139/139 [==============================] - 0s 2ms/step - loss: 6.2724 - mae: 6.2724\n",
            "Epoch 84/100\n",
            "139/139 [==============================] - 0s 3ms/step - loss: 6.5226 - mae: 6.5226\n",
            "Epoch 85/100\n",
            "139/139 [==============================] - 0s 3ms/step - loss: 6.3606 - mae: 6.3606\n",
            "Epoch 86/100\n",
            "139/139 [==============================] - 0s 3ms/step - loss: 6.8772 - mae: 6.8772\n",
            "Epoch 87/100\n",
            "139/139 [==============================] - 0s 3ms/step - loss: 6.5160 - mae: 6.5160\n",
            "Epoch 88/100\n",
            "139/139 [==============================] - 0s 3ms/step - loss: 6.3670 - mae: 6.3670\n",
            "Epoch 89/100\n",
            "139/139 [==============================] - 0s 3ms/step - loss: 6.2244 - mae: 6.2244\n",
            "Epoch 90/100\n",
            "139/139 [==============================] - 0s 2ms/step - loss: 6.4312 - mae: 6.4312\n",
            "Epoch 91/100\n",
            "139/139 [==============================] - 0s 2ms/step - loss: 6.6783 - mae: 6.6783\n",
            "Epoch 92/100\n",
            "139/139 [==============================] - 0s 2ms/step - loss: 6.3032 - mae: 6.3032\n",
            "Epoch 93/100\n",
            "139/139 [==============================] - 0s 3ms/step - loss: 6.5994 - mae: 6.5994\n",
            "Epoch 94/100\n",
            "139/139 [==============================] - 0s 2ms/step - loss: 6.7498 - mae: 6.7498\n",
            "Epoch 95/100\n",
            "139/139 [==============================] - 0s 2ms/step - loss: 6.3563 - mae: 6.3563\n",
            "Epoch 96/100\n",
            "139/139 [==============================] - 0s 2ms/step - loss: 6.1917 - mae: 6.1917\n",
            "Epoch 97/100\n",
            "139/139 [==============================] - 0s 2ms/step - loss: 6.6875 - mae: 6.6875\n",
            "Epoch 98/100\n",
            "139/139 [==============================] - 0s 2ms/step - loss: 6.2607 - mae: 6.2607\n",
            "Epoch 99/100\n",
            "139/139 [==============================] - 0s 2ms/step - loss: 6.6027 - mae: 6.6027\n",
            "Epoch 100/100\n",
            "139/139 [==============================] - 0s 3ms/step - loss: 6.6343 - mae: 6.6343\n"
          ]
        },
        {
          "output_type": "execute_result",
          "data": {
            "text/plain": [
              "<keras.callbacks.History at 0x7feedf7ddfd0>"
            ]
          },
          "metadata": {},
          "execution_count": 37
        }
      ]
    },
    {
      "cell_type": "code",
      "source": [
        "model_3.evaluate(X_test, y_test)"
      ],
      "metadata": {
        "colab": {
          "base_uri": "https://localhost:8080/"
        },
        "id": "nwX1YCKkFGa4",
        "outputId": "80fe0152-698e-4c3f-be32-802a2d1197a2"
      },
      "execution_count": 38,
      "outputs": [
        {
          "output_type": "stream",
          "name": "stdout",
          "text": [
            "35/35 [==============================] - 0s 2ms/step - loss: 10.0020 - mae: 10.0020\n"
          ]
        },
        {
          "output_type": "execute_result",
          "data": {
            "text/plain": [
              "[10.002031326293945, 10.002031326293945]"
            ]
          },
          "metadata": {},
          "execution_count": 38
        }
      ]
    },
    {
      "cell_type": "code",
      "source": [
        "model_3.predict([1868])"
      ],
      "metadata": {
        "colab": {
          "base_uri": "https://localhost:8080/"
        },
        "id": "uLJvWAVHFpod",
        "outputId": "8aed11a3-4e02-42a7-e432-33877389746a"
      },
      "execution_count": 39,
      "outputs": [
        {
          "output_type": "stream",
          "name": "stdout",
          "text": [
            "1/1 [==============================] - 0s 117ms/step\n"
          ]
        },
        {
          "output_type": "execute_result",
          "data": {
            "text/plain": [
              "array([[1869.6005]], dtype=float32)"
            ]
          },
          "metadata": {},
          "execution_count": 39
        }
      ]
    },
    {
      "cell_type": "markdown",
      "source": [
        "# Model 4"
      ],
      "metadata": {
        "id": "bs5AVnLDHXBJ"
      }
    },
    {
      "cell_type": "code",
      "source": [
        "X_train = tf.expand_dims(tf.constant(X_train), axis=-1)\n",
        "y_train = tf.constant(y_train)"
      ],
      "metadata": {
        "id": "CDpQx4TkK6ov"
      },
      "execution_count": 44,
      "outputs": []
    },
    {
      "cell_type": "code",
      "source": [
        "model_4 = tf.keras.Sequential([\n",
        "    tf.keras.layers.Dense(100, activation=None),\n",
        "    tf.keras.layers.Dense(10, activation=None),\n",
        "    tf.keras.layers.Dense(1, activation=None)\n",
        "])\n",
        "\n",
        "model_4.compile(\n",
        "    loss=tf.keras.losses.mae,\n",
        "    optimizer=tf.keras.optimizers.Adam(learning_rate=0.0001),\n",
        "    metrics=['mae']\n",
        ")\n",
        "\n",
        "model_4.fit(X_train, y_train, epochs=100)"
      ],
      "metadata": {
        "colab": {
          "base_uri": "https://localhost:8080/"
        },
        "id": "LfpCyJirJ4lo",
        "outputId": "9edffa7d-7f96-46b9-8f96-8f1a920450b9"
      },
      "execution_count": 58,
      "outputs": [
        {
          "output_type": "stream",
          "name": "stdout",
          "text": [
            "Epoch 1/100\n",
            "139/139 [==============================] - 1s 2ms/step - loss: 769.2587 - mae: 769.2587\n",
            "Epoch 2/100\n",
            "139/139 [==============================] - 0s 3ms/step - loss: 50.6231 - mae: 50.6231\n",
            "Epoch 3/100\n",
            "139/139 [==============================] - 0s 3ms/step - loss: 5.9047 - mae: 5.9047\n",
            "Epoch 4/100\n",
            "139/139 [==============================] - 0s 3ms/step - loss: 5.8705 - mae: 5.8705\n",
            "Epoch 5/100\n",
            "139/139 [==============================] - 0s 3ms/step - loss: 6.0357 - mae: 6.0357\n",
            "Epoch 6/100\n",
            "139/139 [==============================] - 0s 3ms/step - loss: 5.9501 - mae: 5.9501\n",
            "Epoch 7/100\n",
            "139/139 [==============================] - 0s 2ms/step - loss: 6.0311 - mae: 6.0311\n",
            "Epoch 8/100\n",
            "139/139 [==============================] - 0s 2ms/step - loss: 5.9882 - mae: 5.9882\n",
            "Epoch 9/100\n",
            "139/139 [==============================] - 0s 2ms/step - loss: 6.0080 - mae: 6.0080\n",
            "Epoch 10/100\n",
            "139/139 [==============================] - 0s 3ms/step - loss: 5.9509 - mae: 5.9509\n",
            "Epoch 11/100\n",
            "139/139 [==============================] - 0s 3ms/step - loss: 6.0648 - mae: 6.0648\n",
            "Epoch 12/100\n",
            "139/139 [==============================] - 0s 3ms/step - loss: 5.9965 - mae: 5.9965\n",
            "Epoch 13/100\n",
            "139/139 [==============================] - 0s 3ms/step - loss: 6.2203 - mae: 6.2203\n",
            "Epoch 14/100\n",
            "139/139 [==============================] - 0s 3ms/step - loss: 5.9058 - mae: 5.9058\n",
            "Epoch 15/100\n",
            "139/139 [==============================] - 0s 3ms/step - loss: 6.1165 - mae: 6.1165\n",
            "Epoch 16/100\n",
            "139/139 [==============================] - 0s 2ms/step - loss: 5.9581 - mae: 5.9581\n",
            "Epoch 17/100\n",
            "139/139 [==============================] - 0s 3ms/step - loss: 6.0275 - mae: 6.0275\n",
            "Epoch 18/100\n",
            "139/139 [==============================] - 0s 2ms/step - loss: 6.0880 - mae: 6.0880\n",
            "Epoch 19/100\n",
            "139/139 [==============================] - 0s 3ms/step - loss: 5.9687 - mae: 5.9687\n",
            "Epoch 20/100\n",
            "139/139 [==============================] - 0s 3ms/step - loss: 6.0829 - mae: 6.0829\n",
            "Epoch 21/100\n",
            "139/139 [==============================] - 0s 3ms/step - loss: 6.3857 - mae: 6.3857\n",
            "Epoch 22/100\n",
            "139/139 [==============================] - 0s 2ms/step - loss: 5.9918 - mae: 5.9918\n",
            "Epoch 23/100\n",
            "139/139 [==============================] - 0s 3ms/step - loss: 5.9113 - mae: 5.9113\n",
            "Epoch 24/100\n",
            "139/139 [==============================] - 0s 3ms/step - loss: 6.0255 - mae: 6.0255\n",
            "Epoch 25/100\n",
            "139/139 [==============================] - 0s 3ms/step - loss: 6.0920 - mae: 6.0920\n",
            "Epoch 26/100\n",
            "139/139 [==============================] - 0s 2ms/step - loss: 6.1681 - mae: 6.1681\n",
            "Epoch 27/100\n",
            "139/139 [==============================] - 0s 2ms/step - loss: 6.0794 - mae: 6.0794\n",
            "Epoch 28/100\n",
            "139/139 [==============================] - 0s 2ms/step - loss: 6.2383 - mae: 6.2383\n",
            "Epoch 29/100\n",
            "139/139 [==============================] - 0s 2ms/step - loss: 5.9236 - mae: 5.9236\n",
            "Epoch 30/100\n",
            "139/139 [==============================] - 0s 3ms/step - loss: 6.0843 - mae: 6.0843\n",
            "Epoch 31/100\n",
            "139/139 [==============================] - 0s 3ms/step - loss: 6.0868 - mae: 6.0868\n",
            "Epoch 32/100\n",
            "139/139 [==============================] - 0s 3ms/step - loss: 6.1423 - mae: 6.1423\n",
            "Epoch 33/100\n",
            "139/139 [==============================] - 0s 3ms/step - loss: 6.1838 - mae: 6.1838\n",
            "Epoch 34/100\n",
            "139/139 [==============================] - 0s 3ms/step - loss: 5.9184 - mae: 5.9184\n",
            "Epoch 35/100\n",
            "139/139 [==============================] - 0s 2ms/step - loss: 6.1931 - mae: 6.1931\n",
            "Epoch 36/100\n",
            "139/139 [==============================] - 0s 2ms/step - loss: 6.1686 - mae: 6.1686\n",
            "Epoch 37/100\n",
            "139/139 [==============================] - 0s 3ms/step - loss: 6.0000 - mae: 6.0000\n",
            "Epoch 38/100\n",
            "139/139 [==============================] - 0s 3ms/step - loss: 6.0424 - mae: 6.0424\n",
            "Epoch 39/100\n",
            "139/139 [==============================] - 0s 3ms/step - loss: 6.1204 - mae: 6.1204\n",
            "Epoch 40/100\n",
            "139/139 [==============================] - 0s 3ms/step - loss: 5.9868 - mae: 5.9868\n",
            "Epoch 41/100\n",
            "139/139 [==============================] - 0s 2ms/step - loss: 6.1206 - mae: 6.1206\n",
            "Epoch 42/100\n",
            "139/139 [==============================] - 0s 2ms/step - loss: 6.1295 - mae: 6.1295\n",
            "Epoch 43/100\n",
            "139/139 [==============================] - 0s 3ms/step - loss: 5.9993 - mae: 5.9993\n",
            "Epoch 44/100\n",
            "139/139 [==============================] - 0s 3ms/step - loss: 6.0510 - mae: 6.0510\n",
            "Epoch 45/100\n",
            "139/139 [==============================] - 0s 3ms/step - loss: 6.1480 - mae: 6.1480\n",
            "Epoch 46/100\n",
            "139/139 [==============================] - 0s 3ms/step - loss: 6.1735 - mae: 6.1735\n",
            "Epoch 47/100\n",
            "139/139 [==============================] - 0s 3ms/step - loss: 6.0672 - mae: 6.0672\n",
            "Epoch 48/100\n",
            "139/139 [==============================] - 0s 3ms/step - loss: 5.9648 - mae: 5.9648\n",
            "Epoch 49/100\n",
            "139/139 [==============================] - 0s 3ms/step - loss: 6.2878 - mae: 6.2878\n",
            "Epoch 50/100\n",
            "139/139 [==============================] - 0s 2ms/step - loss: 6.0637 - mae: 6.0637\n",
            "Epoch 51/100\n",
            "139/139 [==============================] - 0s 2ms/step - loss: 6.2609 - mae: 6.2609\n",
            "Epoch 52/100\n",
            "139/139 [==============================] - 0s 3ms/step - loss: 5.9685 - mae: 5.9685\n",
            "Epoch 53/100\n",
            "139/139 [==============================] - 0s 3ms/step - loss: 5.9466 - mae: 5.9466\n",
            "Epoch 54/100\n",
            "139/139 [==============================] - 0s 3ms/step - loss: 5.9720 - mae: 5.9720\n",
            "Epoch 55/100\n",
            "139/139 [==============================] - 0s 3ms/step - loss: 5.9919 - mae: 5.9919\n",
            "Epoch 56/100\n",
            "139/139 [==============================] - 0s 3ms/step - loss: 6.0421 - mae: 6.0421\n",
            "Epoch 57/100\n",
            "139/139 [==============================] - 0s 3ms/step - loss: 6.1775 - mae: 6.1775\n",
            "Epoch 58/100\n",
            "139/139 [==============================] - 0s 3ms/step - loss: 6.0246 - mae: 6.0246\n",
            "Epoch 59/100\n",
            "139/139 [==============================] - 0s 2ms/step - loss: 6.0033 - mae: 6.0033\n",
            "Epoch 60/100\n",
            "139/139 [==============================] - 0s 2ms/step - loss: 6.0041 - mae: 6.0041\n",
            "Epoch 61/100\n",
            "139/139 [==============================] - 0s 2ms/step - loss: 5.9759 - mae: 5.9759\n",
            "Epoch 62/100\n",
            "139/139 [==============================] - 0s 2ms/step - loss: 6.0519 - mae: 6.0519\n",
            "Epoch 63/100\n",
            "139/139 [==============================] - 0s 2ms/step - loss: 5.9815 - mae: 5.9815\n",
            "Epoch 64/100\n",
            "139/139 [==============================] - 0s 3ms/step - loss: 6.0378 - mae: 6.0378\n",
            "Epoch 65/100\n",
            "139/139 [==============================] - 0s 3ms/step - loss: 5.9669 - mae: 5.9669\n",
            "Epoch 66/100\n",
            "139/139 [==============================] - 0s 3ms/step - loss: 6.1191 - mae: 6.1191\n",
            "Epoch 67/100\n",
            "139/139 [==============================] - 0s 3ms/step - loss: 6.0033 - mae: 6.0033\n",
            "Epoch 68/100\n",
            "139/139 [==============================] - 0s 3ms/step - loss: 6.0102 - mae: 6.0102\n",
            "Epoch 69/100\n",
            "139/139 [==============================] - 0s 3ms/step - loss: 6.3708 - mae: 6.3708\n",
            "Epoch 70/100\n",
            "139/139 [==============================] - 0s 2ms/step - loss: 6.0319 - mae: 6.0319\n",
            "Epoch 71/100\n",
            "139/139 [==============================] - 0s 2ms/step - loss: 5.9688 - mae: 5.9688\n",
            "Epoch 72/100\n",
            "139/139 [==============================] - 0s 3ms/step - loss: 6.0508 - mae: 6.0508\n",
            "Epoch 73/100\n",
            "139/139 [==============================] - 0s 3ms/step - loss: 5.9911 - mae: 5.9911\n",
            "Epoch 74/100\n",
            "139/139 [==============================] - 0s 3ms/step - loss: 5.9640 - mae: 5.9640\n",
            "Epoch 75/100\n",
            "139/139 [==============================] - 0s 2ms/step - loss: 6.0325 - mae: 6.0325\n",
            "Epoch 76/100\n",
            "139/139 [==============================] - 0s 2ms/step - loss: 5.9229 - mae: 5.9229\n",
            "Epoch 77/100\n",
            "139/139 [==============================] - 0s 2ms/step - loss: 6.0879 - mae: 6.0879\n",
            "Epoch 78/100\n",
            "139/139 [==============================] - 0s 2ms/step - loss: 6.0194 - mae: 6.0194\n",
            "Epoch 79/100\n",
            "139/139 [==============================] - 0s 2ms/step - loss: 6.1258 - mae: 6.1258\n",
            "Epoch 80/100\n",
            "139/139 [==============================] - 0s 2ms/step - loss: 6.0977 - mae: 6.0977\n",
            "Epoch 81/100\n",
            "139/139 [==============================] - 0s 2ms/step - loss: 5.9795 - mae: 5.9795\n",
            "Epoch 82/100\n",
            "139/139 [==============================] - 0s 2ms/step - loss: 6.0172 - mae: 6.0172\n",
            "Epoch 83/100\n",
            "139/139 [==============================] - 0s 2ms/step - loss: 6.0041 - mae: 6.0041\n",
            "Epoch 84/100\n",
            "139/139 [==============================] - 0s 2ms/step - loss: 6.3463 - mae: 6.3463\n",
            "Epoch 85/100\n",
            "139/139 [==============================] - 0s 2ms/step - loss: 5.9854 - mae: 5.9854\n",
            "Epoch 86/100\n",
            "139/139 [==============================] - 0s 2ms/step - loss: 6.0102 - mae: 6.0102\n",
            "Epoch 87/100\n",
            "139/139 [==============================] - 0s 2ms/step - loss: 5.9367 - mae: 5.9367\n",
            "Epoch 88/100\n",
            "139/139 [==============================] - 0s 2ms/step - loss: 6.0842 - mae: 6.0842\n",
            "Epoch 89/100\n",
            "139/139 [==============================] - 0s 2ms/step - loss: 5.9040 - mae: 5.9040\n",
            "Epoch 90/100\n",
            "139/139 [==============================] - 0s 2ms/step - loss: 5.9729 - mae: 5.9729\n",
            "Epoch 91/100\n",
            "139/139 [==============================] - 0s 2ms/step - loss: 6.0364 - mae: 6.0364\n",
            "Epoch 92/100\n",
            "139/139 [==============================] - 0s 2ms/step - loss: 6.0220 - mae: 6.0220\n",
            "Epoch 93/100\n",
            "139/139 [==============================] - 0s 3ms/step - loss: 6.1204 - mae: 6.1204\n",
            "Epoch 94/100\n",
            "139/139 [==============================] - 0s 2ms/step - loss: 6.0622 - mae: 6.0622\n",
            "Epoch 95/100\n",
            "139/139 [==============================] - 0s 3ms/step - loss: 5.9827 - mae: 5.9827\n",
            "Epoch 96/100\n",
            "139/139 [==============================] - 0s 2ms/step - loss: 6.0821 - mae: 6.0821\n",
            "Epoch 97/100\n",
            "139/139 [==============================] - 0s 3ms/step - loss: 6.1298 - mae: 6.1298\n",
            "Epoch 98/100\n",
            "139/139 [==============================] - 0s 3ms/step - loss: 6.0768 - mae: 6.0768\n",
            "Epoch 99/100\n",
            "139/139 [==============================] - 0s 2ms/step - loss: 5.9442 - mae: 5.9442\n",
            "Epoch 100/100\n",
            "139/139 [==============================] - 0s 2ms/step - loss: 5.9854 - mae: 5.9854\n"
          ]
        },
        {
          "output_type": "execute_result",
          "data": {
            "text/plain": [
              "<keras.callbacks.History at 0x7feee5acf070>"
            ]
          },
          "metadata": {},
          "execution_count": 58
        }
      ]
    },
    {
      "cell_type": "code",
      "source": [
        "model_4.evaluate(X_test, y_test)"
      ],
      "metadata": {
        "colab": {
          "base_uri": "https://localhost:8080/"
        },
        "id": "s3w2ibuhKc0c",
        "outputId": "c4f58be6-eda5-4814-c0d3-d1283b06772f"
      },
      "execution_count": 59,
      "outputs": [
        {
          "output_type": "stream",
          "name": "stdout",
          "text": [
            "35/35 [==============================] - 0s 1ms/step - loss: 10.3860 - mae: 10.3860\n"
          ]
        },
        {
          "output_type": "execute_result",
          "data": {
            "text/plain": [
              "[10.386021614074707, 10.386021614074707]"
            ]
          },
          "metadata": {},
          "execution_count": 59
        }
      ]
    },
    {
      "cell_type": "code",
      "source": [
        "model_4.predict(X_test[-10:])"
      ],
      "metadata": {
        "colab": {
          "base_uri": "https://localhost:8080/"
        },
        "id": "IZES7RwDLaYq",
        "outputId": "1e7729a5-c5aa-4323-ef4a-0bfe267538b6"
      },
      "execution_count": 90,
      "outputs": [
        {
          "output_type": "stream",
          "name": "stdout",
          "text": [
            "1/1 [==============================] - 0s 23ms/step\n"
          ]
        },
        {
          "output_type": "execute_result",
          "data": {
            "text/plain": [
              "array([[1820.5994],\n",
              "       [1839.8363],\n",
              "       [1849.2545],\n",
              "       [1858.8732],\n",
              "       [1842.0405],\n",
              "       [1870.6962],\n",
              "       [1881.5168],\n",
              "       [1876.8077],\n",
              "       [1880.9155],\n",
              "       [1902.7577]], dtype=float32)"
            ]
          },
          "metadata": {},
          "execution_count": 90
        }
      ]
    },
    {
      "cell_type": "code",
      "source": [
        "y_test[-10:]"
      ],
      "metadata": {
        "colab": {
          "base_uri": "https://localhost:8080/"
        },
        "id": "qBAFg9UvNQmU",
        "outputId": "eca4f88c-211c-4104-80aa-0400da723319"
      },
      "execution_count": 57,
      "outputs": [
        {
          "output_type": "execute_result",
          "data": {
            "text/plain": [
              "Date\n",
              "2022-12-30    1819.699951\n",
              "2023-01-03    1839.699951\n",
              "2023-01-04    1852.800049\n",
              "2023-01-05    1834.800049\n",
              "2023-01-06    1864.199951\n",
              "2023-01-09    1872.699951\n",
              "2023-01-10    1871.599976\n",
              "2023-01-11    1874.599976\n",
              "2023-01-12    1895.500000\n",
              "2023-01-13    1918.400024\n",
              "Name: Close, dtype: float64"
            ]
          },
          "metadata": {},
          "execution_count": 57
        }
      ]
    },
    {
      "cell_type": "code",
      "source": [
        "%pip install matplotlib"
      ],
      "metadata": {
        "id": "zsm5wyfHOfmv"
      },
      "execution_count": null,
      "outputs": []
    },
    {
      "cell_type": "code",
      "source": [
        "import matplotlib.pyplot as plt\n",
        "\n",
        "def plot_predictions(predictions,\n",
        "                     train_data=X_train, \n",
        "                     train_labels=y_train, \n",
        "                     test_data=X_test, \n",
        "                     test_labels=y_test):\n",
        "  \"\"\"\n",
        "  Plots training data, test data and compares predictions.\n",
        "  \"\"\"\n",
        "  plt.figure(figsize=(10, 7))\n",
        "  # Plot training data in blue\n",
        "  plt.scatter(train_data, train_labels, c=\"b\", label=\"Training data\")\n",
        "  # Plot test data in green\n",
        "  plt.scatter(test_data, test_labels, c=\"g\", label=\"Testing data\")\n",
        "  # Plot the predictions in red (predictions were made on the test data)\n",
        "  plt.scatter(test_data, predictions, c=\"r\", label=\"Predictions\")\n",
        "  # Show the legend\n",
        "  plt.legend();\n"
      ],
      "metadata": {
        "id": "FVa19oH5NVEq"
      },
      "execution_count": 85,
      "outputs": []
    },
    {
      "cell_type": "code",
      "source": [
        "prediction = model_4.predict(X_test)\n",
        "plot_predictions(predictions=prediction)"
      ],
      "metadata": {
        "colab": {
          "base_uri": "https://localhost:8080/",
          "height": 445
        },
        "id": "2csFoOzsOdjT",
        "outputId": "f72065f9-a83b-458e-85db-ed0e7a38bbcc"
      },
      "execution_count": 88,
      "outputs": [
        {
          "output_type": "stream",
          "name": "stdout",
          "text": [
            "35/35 [==============================] - 0s 2ms/step\n"
          ]
        },
        {
          "output_type": "display_data",
          "data": {
            "text/plain": [
              "<Figure size 720x504 with 1 Axes>"
            ],
            "image/png": "[encoded data removed]"
          },
          "metadata": {
            "needs_background": "light"
          }
        }
      ]
    },
    {
      "cell_type": "code",
      "source": [],
      "metadata": {
        "id": "13SvBdVaOvF0"
      },
      "execution_count": null,
      "outputs": []
    }
  ]
}